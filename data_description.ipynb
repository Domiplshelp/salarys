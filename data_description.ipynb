{
 "cells": [
  {
   "cell_type": "markdown",
   "id": "84bba96f",
   "metadata": {},
   "source": [
    "# 2.1: \n",
    "Möchte Vorhersagen für die spalte 14 Salaries machen"
   ]
  },
  {
   "cell_type": "markdown",
   "id": "4d08f104",
   "metadata": {},
   "source": [
    "# 2.2\n",
    "\n",
    "ich habe die ersten ungefähr 100000 zeilen rausgenommen(bis salary 30000 war) da diese daten die davor kahmen waarscheindlich nicht für ein ganzes jahr da gearbeitet haben."
   ]
  },
  {
   "cell_type": "code",
   "execution_count": 1,
   "id": "c6c1accc",
   "metadata": {},
   "outputs": [],
   "source": [
    "import pandas as pd\n",
    "import os\n",
    "salarys = pd.read_csv(\"Employee_Salary_Compensation.csv\", sep = ';')"
   ]
  },
  {
   "cell_type": "code",
   "execution_count": 2,
   "id": "17889879",
   "metadata": {},
   "outputs": [
    {
     "data": {
      "text/plain": [
       "0    2\n",
       "Name: Organization Group Code, dtype: int64"
      ]
     },
     "execution_count": 2,
     "metadata": {},
     "output_type": "execute_result"
    }
   ],
   "source": [
    "salarys[\"Organization Group Code\"].mode()"
   ]
  },
  {
   "cell_type": "code",
   "execution_count": 3,
   "id": "6657fd18",
   "metadata": {},
   "outputs": [
    {
     "data": {
      "text/plain": [
       "0    2300\n",
       "Name: Job Family Code, dtype: object"
      ]
     },
     "execution_count": 3,
     "metadata": {},
     "output_type": "execute_result"
    }
   ],
   "source": [
    "salarys[\"Job Family Code\"].mode()"
   ]
  },
  {
   "cell_type": "code",
   "execution_count": 4,
   "id": "600bc64c",
   "metadata": {},
   "outputs": [
    {
     "data": {
      "text/plain": [
       "0    9163.0\n",
       "Name: Job Code, dtype: float64"
      ]
     },
     "execution_count": 4,
     "metadata": {},
     "output_type": "execute_result"
    }
   ],
   "source": [
    "salarys[\"Job Code\"].mode()"
   ]
  },
  {
   "cell_type": "code",
   "execution_count": 5,
   "id": "b8efc0ce",
   "metadata": {},
   "outputs": [
    {
     "data": {
      "text/plain": [
       "0    Calendar\n",
       "Name: Year Type, dtype: object"
      ]
     },
     "execution_count": 5,
     "metadata": {},
     "output_type": "execute_result"
    }
   ],
   "source": [
    "salarys[\"Year Type\"].mode()"
   ]
  },
  {
   "cell_type": "code",
   "execution_count": 6,
   "id": "df8bcf44",
   "metadata": {},
   "outputs": [
    {
     "data": {
      "text/plain": [
       "2017.0"
      ]
     },
     "execution_count": 6,
     "metadata": {},
     "output_type": "execute_result"
    }
   ],
   "source": [
    "salarys[\"Year\"].median()"
   ]
  },
  {
   "cell_type": "code",
   "execution_count": 7,
   "id": "3195a98a",
   "metadata": {},
   "outputs": [
    {
     "data": {
      "text/plain": [
       "0    Public Works, Transportation & Commerce\n",
       "Name: Organization Group, dtype: object"
      ]
     },
     "execution_count": 7,
     "metadata": {},
     "output_type": "execute_result"
    }
   ],
   "source": [
    "salarys[\"Organization Group\"].mode()"
   ]
  },
  {
   "cell_type": "code",
   "execution_count": 8,
   "id": "0544718c",
   "metadata": {},
   "outputs": [
    {
     "data": {
      "text/plain": [
       "0    DPH\n",
       "Name: Department Code, dtype: object"
      ]
     },
     "execution_count": 8,
     "metadata": {},
     "output_type": "execute_result"
    }
   ],
   "source": [
    "salarys[\"Department Code\"].mode()"
   ]
  },
  {
   "cell_type": "code",
   "execution_count": 9,
   "id": "eb6a32f1",
   "metadata": {},
   "outputs": [
    {
     "data": {
      "text/plain": [
       "0    Public Health\n",
       "Name: Department, dtype: object"
      ]
     },
     "execution_count": 9,
     "metadata": {},
     "output_type": "execute_result"
    }
   ],
   "source": [
    "salarys[\"Department\"].mode()"
   ]
  },
  {
   "cell_type": "code",
   "execution_count": 10,
   "id": "c3490c78",
   "metadata": {},
   "outputs": [
    {
     "data": {
      "text/plain": [
       "0    790.0\n",
       "Name: Union Code, dtype: float64"
      ]
     },
     "execution_count": 10,
     "metadata": {},
     "output_type": "execute_result"
    }
   ],
   "source": [
    "salarys[\"Union Code\"].mode()"
   ]
  },
  {
   "cell_type": "code",
   "execution_count": 11,
   "id": "a96854e8",
   "metadata": {},
   "outputs": [
    {
     "data": {
      "text/plain": [
       "0    SEIU, Local 1021, Misc\n",
       "Name: Union, dtype: object"
      ]
     },
     "execution_count": 11,
     "metadata": {},
     "output_type": "execute_result"
    }
   ],
   "source": [
    "salarys[\"Union\"].mode()"
   ]
  },
  {
   "cell_type": "code",
   "execution_count": 12,
   "id": "0e9d4ac7",
   "metadata": {},
   "outputs": [
    {
     "data": {
      "text/plain": [
       "0    Nursing\n",
       "Name: Job Family, dtype: object"
      ]
     },
     "execution_count": 12,
     "metadata": {},
     "output_type": "execute_result"
    }
   ],
   "source": [
    "salarys[\"Job Family\"].mode()"
   ]
  },
  {
   "cell_type": "code",
   "execution_count": 13,
   "id": "6960e81e",
   "metadata": {},
   "outputs": [
    {
     "data": {
      "text/plain": [
       "0    Transit Operator\n",
       "Name: Job, dtype: object"
      ]
     },
     "execution_count": 13,
     "metadata": {},
     "output_type": "execute_result"
    }
   ],
   "source": [
    "salarys[\"Job\"].mode()"
   ]
  },
  {
   "cell_type": "code",
   "execution_count": 14,
   "id": "943b16e9",
   "metadata": {},
   "outputs": [
    {
     "data": {
      "text/plain": [
       "0    48064\n",
       "Name: Employee Identifier, dtype: int64"
      ]
     },
     "execution_count": 14,
     "metadata": {},
     "output_type": "execute_result"
    }
   ],
   "source": [
    "salarys[\"Employee Identifier\"].mode()"
   ]
  },
  {
   "cell_type": "code",
   "execution_count": 15,
   "id": "864715b7",
   "metadata": {},
   "outputs": [
    {
     "data": {
      "text/plain": [
       "90509.58669537885"
      ]
     },
     "execution_count": 15,
     "metadata": {},
     "output_type": "execute_result"
    }
   ],
   "source": [
    "salarys[\"Salaries\"].mean()"
   ]
  },
  {
   "cell_type": "code",
   "execution_count": 16,
   "id": "570940be",
   "metadata": {},
   "outputs": [
    {
     "data": {
      "text/plain": [
       "7319.350074573189"
      ]
     },
     "execution_count": 16,
     "metadata": {},
     "output_type": "execute_result"
    }
   ],
   "source": [
    "salarys[\"Overtime\"].mean()"
   ]
  },
  {
   "cell_type": "code",
   "execution_count": 17,
   "id": "b2851053",
   "metadata": {},
   "outputs": [
    {
     "data": {
      "text/plain": [
       "102320.5175529999"
      ]
     },
     "execution_count": 17,
     "metadata": {},
     "output_type": "execute_result"
    }
   ],
   "source": [
    "salarys[\"Total Salary\"].mean()"
   ]
  },
  {
   "cell_type": "code",
   "execution_count": 18,
   "id": "325fb412",
   "metadata": {},
   "outputs": [
    {
     "data": {
      "text/plain": [
       "18275.985913683257"
      ]
     },
     "execution_count": 18,
     "metadata": {},
     "output_type": "execute_result"
    }
   ],
   "source": [
    "salarys[\"Retirement\"].mean()"
   ]
  },
  {
   "cell_type": "code",
   "execution_count": 19,
   "id": "4b461a60",
   "metadata": {},
   "outputs": [
    {
     "data": {
      "text/plain": [
       "6475.58440820638"
      ]
     },
     "execution_count": 19,
     "metadata": {},
     "output_type": "execute_result"
    }
   ],
   "source": [
    "salarys[\"Other Benefits\"].mean()"
   ]
  },
  {
   "cell_type": "code",
   "execution_count": 20,
   "id": "f23c6eae",
   "metadata": {},
   "outputs": [
    {
     "data": {
      "text/plain": [
       "37564.46848766356"
      ]
     },
     "execution_count": 20,
     "metadata": {},
     "output_type": "execute_result"
    }
   ],
   "source": [
    "salarys[\"Total Benefits\"].mean()"
   ]
  },
  {
   "cell_type": "code",
   "execution_count": 21,
   "id": "583fa046",
   "metadata": {},
   "outputs": [
    {
     "data": {
      "text/plain": [
       "139884.98604066347"
      ]
     },
     "execution_count": 21,
     "metadata": {},
     "output_type": "execute_result"
    }
   ],
   "source": [
    "salarys[\"Total Compensation\"].mean()"
   ]
  },
  {
   "cell_type": "markdown",
   "id": "fea103b4",
   "metadata": {},
   "source": [
    "# 2.3"
   ]
  },
  {
   "cell_type": "code",
   "execution_count": 22,
   "id": "c7e00534",
   "metadata": {},
   "outputs": [
    {
     "data": {
      "image/png": "[encoded data removed]",
      "text/plain": [
       "<Figure size 432x288 with 1 Axes>"
      ]
     },
     "metadata": {},
     "output_type": "display_data"
    }
   ],
   "source": [
    "import matplotlib.pyplot as plt\n",
    "with plt.xkcd():\n",
    "    plt.hist(salarys[\"Salaries\"].dropna(), bins=range(30000,230000,6000))\n",
    "    plt.title(\"Salarys\")\n",
    "    plt.xlabel(\"Salary\")\n",
    "    plt.ylabel(\"Count\")\n"
   ]
  },
  {
   "cell_type": "code",
   "execution_count": 23,
   "id": "6b74d55b",
   "metadata": {
    "scrolled": false
   },
   "outputs": [
    {
     "data": {
      "text/plain": [
       "<matplotlib.collections.PathCollection at 0x1921f1f94b0>"
      ]
     },
     "execution_count": 23,
     "metadata": {},
     "output_type": "execute_result"
    },
    {
     "data": {
      "image/png": "[encoded data removed]",
      "text/plain": [
       "<Figure size 432x288 with 1 Axes>"
      ]
     },
     "metadata": {
      "needs_background": "light"
     },
     "output_type": "display_data"
    }
   ],
   "source": [
    "    plt.scatter(salarys[\"Salaries\"], salarys[\"Retirement\"], 2)"
   ]
  },
  {
   "cell_type": "markdown",
   "id": "518c2939",
   "metadata": {},
   "source": [
    "# 2.4"
   ]
  },
  {
   "cell_type": "code",
   "execution_count": 24,
   "id": "0ee02772",
   "metadata": {},
   "outputs": [],
   "source": [
    "from sklearn.preprocessing import OrdinalEncoder\n",
    "from sklearn.model_selection import train_test_split\n",
    "from sklearn.preprocessing import StandardScaler\n",
    "from sklearn import preprocessing"
   ]
  },
  {
   "cell_type": "code",
   "execution_count": 25,
   "id": "ce6f2d28",
   "metadata": {},
   "outputs": [],
   "source": [
    "X = salarys[[\"Year\",\"Organization Group Code\", \"Department Code\", \"Job code\"]]\n",
    "y = salarys[[\"Salaries\"]]"
   ]
  },
  {
   "cell_type": "code",
   "execution_count": 26,
   "id": "c7a5ed60",
   "metadata": {},
   "outputs": [],
   "source": [
    "\n",
    "oe = preprocessing.OrdinalEncoder().fit(X[[\"Department Code\"]])\n",
    "salarys[[\"Department Code\"]] = oe.transform(X[[\"Department Code\"]])"
   ]
  },
  {
   "cell_type": "code",
   "execution_count": 27,
   "id": "490576dd",
   "metadata": {},
   "outputs": [],
   "source": [
    "oe = preprocessing.OrdinalEncoder().fit(X[[\"Job code\"]])\n",
    "salarys[[\"Job code\"]] = oe.transform(X[[\"Job code\"]])"
   ]
  },
  {
   "cell_type": "code",
   "execution_count": 28,
   "id": "1142d09e",
   "metadata": {},
   "outputs": [],
   "source": [
    "X = salarys[[\"Year\",\"Organization Group Code\", \"Department Code\", \"Job code\"]]\n",
    "y = salarys[[\"Salaries\"]]"
   ]
  },
  {
   "cell_type": "code",
   "execution_count": 29,
   "id": "e75c829d",
   "metadata": {},
   "outputs": [],
   "source": [
    "X_train, X_test, y_train, y_test = train_test_split(X, y, random_state=0)\n",
    "scaler = StandardScaler()\n",
    "scaler = scaler.fit(X_train)\n",
    "X_train = scaler.transform(X_train)\n",
    "X_test = scaler.transform(X_test)"
   ]
  },
  {
   "cell_type": "code",
   "execution_count": 30,
   "id": "8dde1382",
   "metadata": {},
   "outputs": [
    {
     "data": {
      "text/html": [
       "<div>\n",
       "<style scoped>\n",
       "    .dataframe tbody tr th:only-of-type {\n",
       "        vertical-align: middle;\n",
       "    }\n",
       "\n",
       "    .dataframe tbody tr th {\n",
       "        vertical-align: top;\n",
       "    }\n",
       "\n",
       "    .dataframe thead th {\n",
       "        text-align: right;\n",
       "    }\n",
       "</style>\n",
       "<table border=\"1\" class=\"dataframe\">\n",
       "  <thead>\n",
       "    <tr style=\"text-align: right;\">\n",
       "      <th></th>\n",
       "      <th>Organization Group Code</th>\n",
       "      <th>Job Family Code</th>\n",
       "      <th>Job Code</th>\n",
       "      <th>Year Type</th>\n",
       "      <th>Year</th>\n",
       "      <th>Organization Group</th>\n",
       "      <th>Department Code</th>\n",
       "      <th>Department</th>\n",
       "      <th>Union Code</th>\n",
       "      <th>Union</th>\n",
       "      <th>...</th>\n",
       "      <th>Employee Identifier</th>\n",
       "      <th>Salaries</th>\n",
       "      <th>Overtime</th>\n",
       "      <th>Other Salaries</th>\n",
       "      <th>Total Salary</th>\n",
       "      <th>Retirement</th>\n",
       "      <th>Health and Dental</th>\n",
       "      <th>Other Benefits</th>\n",
       "      <th>Total Benefits</th>\n",
       "      <th>Total Compensation</th>\n",
       "    </tr>\n",
       "  </thead>\n",
       "  <tbody>\n",
       "    <tr>\n",
       "      <th>0</th>\n",
       "      <td>2</td>\n",
       "      <td>9100</td>\n",
       "      <td>9163.0</td>\n",
       "      <td>Fiscal</td>\n",
       "      <td>2013</td>\n",
       "      <td>Public Works, Transportation &amp; Commerce</td>\n",
       "      <td>41.0</td>\n",
       "      <td>MTA Municipal Transprtn Agncy</td>\n",
       "      <td>253.0</td>\n",
       "      <td>Transport Workers - Transit Operators, Local 2...</td>\n",
       "      <td>...</td>\n",
       "      <td>45817</td>\n",
       "      <td>30000.83</td>\n",
       "      <td>0</td>\n",
       "      <td>0.00</td>\n",
       "      <td>30000.83</td>\n",
       "      <td>7713.20</td>\n",
       "      <td>6080.22</td>\n",
       "      <td>839.15</td>\n",
       "      <td>14632.57</td>\n",
       "      <td>44633.40</td>\n",
       "    </tr>\n",
       "    <tr>\n",
       "      <th>1</th>\n",
       "      <td>5</td>\n",
       "      <td>900</td>\n",
       "      <td>923.0</td>\n",
       "      <td>Fiscal</td>\n",
       "      <td>2013</td>\n",
       "      <td>Culture &amp; Recreation</td>\n",
       "      <td>48.0</td>\n",
       "      <td>REC Recreation &amp; Park Commsn</td>\n",
       "      <td>351.0</td>\n",
       "      <td>Municipal Executive Association - Miscellaneous</td>\n",
       "      <td>...</td>\n",
       "      <td>32967</td>\n",
       "      <td>30000.99</td>\n",
       "      <td>0</td>\n",
       "      <td>17761.74</td>\n",
       "      <td>47762.73</td>\n",
       "      <td>5313.17</td>\n",
       "      <td>2461.89</td>\n",
       "      <td>4272.49</td>\n",
       "      <td>12047.55</td>\n",
       "      <td>59810.28</td>\n",
       "    </tr>\n",
       "    <tr>\n",
       "      <th>2</th>\n",
       "      <td>4</td>\n",
       "      <td>9900</td>\n",
       "      <td>9924.0</td>\n",
       "      <td>Fiscal</td>\n",
       "      <td>2016</td>\n",
       "      <td>Community Health</td>\n",
       "      <td>23.0</td>\n",
       "      <td>DPH Public Health</td>\n",
       "      <td>790.0</td>\n",
       "      <td>SEIU - Miscellaneous, Local 1021</td>\n",
       "      <td>...</td>\n",
       "      <td>30210</td>\n",
       "      <td>30001.03</td>\n",
       "      <td>0</td>\n",
       "      <td>440.00</td>\n",
       "      <td>30441.03</td>\n",
       "      <td>2343.94</td>\n",
       "      <td>9925.67</td>\n",
       "      <td>2474.75</td>\n",
       "      <td>14744.36</td>\n",
       "      <td>45185.39</td>\n",
       "    </tr>\n",
       "    <tr>\n",
       "      <th>3</th>\n",
       "      <td>5</td>\n",
       "      <td>8200</td>\n",
       "      <td>8202.0</td>\n",
       "      <td>Calendar</td>\n",
       "      <td>2020</td>\n",
       "      <td>Culture &amp; Recreation</td>\n",
       "      <td>30.0</td>\n",
       "      <td>Fine Arts Museum</td>\n",
       "      <td>790.0</td>\n",
       "      <td>SEIU, Local 1021, Misc</td>\n",
       "      <td>...</td>\n",
       "      <td>44076362</td>\n",
       "      <td>30001.28</td>\n",
       "      <td>731</td>\n",
       "      <td>0.00</td>\n",
       "      <td>30732.70</td>\n",
       "      <td>6774.26</td>\n",
       "      <td>19192.76</td>\n",
       "      <td>2168.96</td>\n",
       "      <td>28135.98</td>\n",
       "      <td>58868.68</td>\n",
       "    </tr>\n",
       "    <tr>\n",
       "      <th>4</th>\n",
       "      <td>4</td>\n",
       "      <td>2300</td>\n",
       "      <td>2320.0</td>\n",
       "      <td>Fiscal</td>\n",
       "      <td>2018</td>\n",
       "      <td>Community Health</td>\n",
       "      <td>23.0</td>\n",
       "      <td>Public Health</td>\n",
       "      <td>791.0</td>\n",
       "      <td>SEIU, Local 1021, RN</td>\n",
       "      <td>...</td>\n",
       "      <td>36793627</td>\n",
       "      <td>30003.97</td>\n",
       "      <td>0</td>\n",
       "      <td>447.96</td>\n",
       "      <td>30227.95</td>\n",
       "      <td>5595.57</td>\n",
       "      <td>3462.35</td>\n",
       "      <td>2545.16</td>\n",
       "      <td>11603.08</td>\n",
       "      <td>41831.03</td>\n",
       "    </tr>\n",
       "    <tr>\n",
       "      <th>...</th>\n",
       "      <td>...</td>\n",
       "      <td>...</td>\n",
       "      <td>...</td>\n",
       "      <td>...</td>\n",
       "      <td>...</td>\n",
       "      <td>...</td>\n",
       "      <td>...</td>\n",
       "      <td>...</td>\n",
       "      <td>...</td>\n",
       "      <td>...</td>\n",
       "      <td>...</td>\n",
       "      <td>...</td>\n",
       "      <td>...</td>\n",
       "      <td>...</td>\n",
       "      <td>...</td>\n",
       "      <td>...</td>\n",
       "      <td>...</td>\n",
       "      <td>...</td>\n",
       "      <td>...</td>\n",
       "      <td>...</td>\n",
       "      <td>...</td>\n",
       "    </tr>\n",
       "    <tr>\n",
       "      <th>995</th>\n",
       "      <td>6</td>\n",
       "      <td>7200</td>\n",
       "      <td>7254.0</td>\n",
       "      <td>Fiscal</td>\n",
       "      <td>2014</td>\n",
       "      <td>General Administration &amp; Finance</td>\n",
       "      <td>1.0</td>\n",
       "      <td>ADM Gen Svcs Agency-City Admin</td>\n",
       "      <td>130.0</td>\n",
       "      <td>Automotive Machinists, Local 1414</td>\n",
       "      <td>...</td>\n",
       "      <td>17237</td>\n",
       "      <td>30367.60</td>\n",
       "      <td>9338</td>\n",
       "      <td>0.00</td>\n",
       "      <td>39705.57</td>\n",
       "      <td>6474.36</td>\n",
       "      <td>3643.50</td>\n",
       "      <td>3063.76</td>\n",
       "      <td>13181.62</td>\n",
       "      <td>52887.19</td>\n",
       "    </tr>\n",
       "    <tr>\n",
       "      <th>996</th>\n",
       "      <td>5</td>\n",
       "      <td>3600</td>\n",
       "      <td>3602.0</td>\n",
       "      <td>Fiscal</td>\n",
       "      <td>2020</td>\n",
       "      <td>Culture &amp; Recreation</td>\n",
       "      <td>39.0</td>\n",
       "      <td>Public Library</td>\n",
       "      <td>790.0</td>\n",
       "      <td>SEIU, Local 1021, Misc</td>\n",
       "      <td>...</td>\n",
       "      <td>42421679</td>\n",
       "      <td>30368.53</td>\n",
       "      <td>0</td>\n",
       "      <td>432.51</td>\n",
       "      <td>30801.04</td>\n",
       "      <td>7462.70</td>\n",
       "      <td>8019.47</td>\n",
       "      <td>2539.38</td>\n",
       "      <td>18021.55</td>\n",
       "      <td>48822.59</td>\n",
       "    </tr>\n",
       "    <tr>\n",
       "      <th>997</th>\n",
       "      <td>2</td>\n",
       "      <td>7500</td>\n",
       "      <td>7502.0</td>\n",
       "      <td>Fiscal</td>\n",
       "      <td>2013</td>\n",
       "      <td>Public Works, Transportation &amp; Commerce</td>\n",
       "      <td>24.0</td>\n",
       "      <td>DPW GSA - Public Works</td>\n",
       "      <td>261.0</td>\n",
       "      <td>Laborers, Local 261</td>\n",
       "      <td>...</td>\n",
       "      <td>855</td>\n",
       "      <td>30368.63</td>\n",
       "      <td>942</td>\n",
       "      <td>1496.44</td>\n",
       "      <td>32807.00</td>\n",
       "      <td>1623.24</td>\n",
       "      <td>7739.54</td>\n",
       "      <td>2539.93</td>\n",
       "      <td>11902.71</td>\n",
       "      <td>44709.71</td>\n",
       "    </tr>\n",
       "    <tr>\n",
       "      <th>998</th>\n",
       "      <td>2</td>\n",
       "      <td>5300</td>\n",
       "      <td>5381.0</td>\n",
       "      <td>Calendar</td>\n",
       "      <td>2015</td>\n",
       "      <td>Public Works, Transportation &amp; Commerce</td>\n",
       "      <td>3.0</td>\n",
       "      <td>AIR Airport Commission</td>\n",
       "      <td>21.0</td>\n",
       "      <td>Prof &amp; Tech Engineers - Miscellaneous, Local 21</td>\n",
       "      <td>...</td>\n",
       "      <td>49967</td>\n",
       "      <td>30369.20</td>\n",
       "      <td>0</td>\n",
       "      <td>0.00</td>\n",
       "      <td>30369.20</td>\n",
       "      <td>5395.64</td>\n",
       "      <td>6672.20</td>\n",
       "      <td>2453.49</td>\n",
       "      <td>14521.33</td>\n",
       "      <td>44890.53</td>\n",
       "    </tr>\n",
       "    <tr>\n",
       "      <th>999</th>\n",
       "      <td>5</td>\n",
       "      <td>3600</td>\n",
       "      <td>3630.0</td>\n",
       "      <td>Calendar</td>\n",
       "      <td>2016</td>\n",
       "      <td>Culture &amp; Recreation</td>\n",
       "      <td>39.0</td>\n",
       "      <td>LIB Public Library</td>\n",
       "      <td>790.0</td>\n",
       "      <td>SEIU - Miscellaneous, Local 1021</td>\n",
       "      <td>...</td>\n",
       "      <td>12341</td>\n",
       "      <td>30369.97</td>\n",
       "      <td>0</td>\n",
       "      <td>503.24</td>\n",
       "      <td>30873.21</td>\n",
       "      <td>5628.18</td>\n",
       "      <td>5509.14</td>\n",
       "      <td>2475.29</td>\n",
       "      <td>13612.61</td>\n",
       "      <td>44485.82</td>\n",
       "    </tr>\n",
       "  </tbody>\n",
       "</table>\n",
       "<p>1000 rows × 23 columns</p>\n",
       "</div>"
      ],
      "text/plain": [
       "     Organization Group Code Job Family Code  Job Code Year Type  Year  \\\n",
       "0                          2            9100    9163.0    Fiscal  2013   \n",
       "1                          5             900     923.0    Fiscal  2013   \n",
       "2                          4            9900    9924.0    Fiscal  2016   \n",
       "3                          5            8200    8202.0  Calendar  2020   \n",
       "4                          4            2300    2320.0    Fiscal  2018   \n",
       "..                       ...             ...       ...       ...   ...   \n",
       "995                        6            7200    7254.0    Fiscal  2014   \n",
       "996                        5            3600    3602.0    Fiscal  2020   \n",
       "997                        2            7500    7502.0    Fiscal  2013   \n",
       "998                        2            5300    5381.0  Calendar  2015   \n",
       "999                        5            3600    3630.0  Calendar  2016   \n",
       "\n",
       "                          Organization Group  Department Code  \\\n",
       "0    Public Works, Transportation & Commerce             41.0   \n",
       "1                       Culture & Recreation             48.0   \n",
       "2                           Community Health             23.0   \n",
       "3                       Culture & Recreation             30.0   \n",
       "4                           Community Health             23.0   \n",
       "..                                       ...              ...   \n",
       "995         General Administration & Finance              1.0   \n",
       "996                     Culture & Recreation             39.0   \n",
       "997  Public Works, Transportation & Commerce             24.0   \n",
       "998  Public Works, Transportation & Commerce              3.0   \n",
       "999                     Culture & Recreation             39.0   \n",
       "\n",
       "                         Department  Union Code  \\\n",
       "0     MTA Municipal Transprtn Agncy       253.0   \n",
       "1      REC Recreation & Park Commsn       351.0   \n",
       "2                 DPH Public Health       790.0   \n",
       "3                  Fine Arts Museum       790.0   \n",
       "4                     Public Health       791.0   \n",
       "..                              ...         ...   \n",
       "995  ADM Gen Svcs Agency-City Admin       130.0   \n",
       "996                  Public Library       790.0   \n",
       "997          DPW GSA - Public Works       261.0   \n",
       "998          AIR Airport Commission        21.0   \n",
       "999              LIB Public Library       790.0   \n",
       "\n",
       "                                                 Union  ...  \\\n",
       "0    Transport Workers - Transit Operators, Local 2...  ...   \n",
       "1      Municipal Executive Association - Miscellaneous  ...   \n",
       "2                     SEIU - Miscellaneous, Local 1021  ...   \n",
       "3                               SEIU, Local 1021, Misc  ...   \n",
       "4                                 SEIU, Local 1021, RN  ...   \n",
       "..                                                 ...  ...   \n",
       "995                  Automotive Machinists, Local 1414  ...   \n",
       "996                             SEIU, Local 1021, Misc  ...   \n",
       "997                                Laborers, Local 261  ...   \n",
       "998    Prof & Tech Engineers - Miscellaneous, Local 21  ...   \n",
       "999                   SEIU - Miscellaneous, Local 1021  ...   \n",
       "\n",
       "    Employee Identifier  Salaries Overtime  Other Salaries  Total Salary  \\\n",
       "0                 45817  30000.83        0            0.00      30000.83   \n",
       "1                 32967  30000.99        0        17761.74      47762.73   \n",
       "2                 30210  30001.03        0          440.00      30441.03   \n",
       "3              44076362  30001.28      731            0.00      30732.70   \n",
       "4              36793627  30003.97        0          447.96      30227.95   \n",
       "..                  ...       ...      ...             ...           ...   \n",
       "995               17237  30367.60     9338            0.00      39705.57   \n",
       "996            42421679  30368.53        0          432.51      30801.04   \n",
       "997                 855  30368.63      942         1496.44      32807.00   \n",
       "998               49967  30369.20        0            0.00      30369.20   \n",
       "999               12341  30369.97        0          503.24      30873.21   \n",
       "\n",
       "     Retirement  Health and Dental  Other Benefits  Total Benefits  \\\n",
       "0       7713.20            6080.22          839.15        14632.57   \n",
       "1       5313.17            2461.89         4272.49        12047.55   \n",
       "2       2343.94            9925.67         2474.75        14744.36   \n",
       "3       6774.26           19192.76         2168.96        28135.98   \n",
       "4       5595.57            3462.35         2545.16        11603.08   \n",
       "..          ...                ...             ...             ...   \n",
       "995     6474.36            3643.50         3063.76        13181.62   \n",
       "996     7462.70            8019.47         2539.38        18021.55   \n",
       "997     1623.24            7739.54         2539.93        11902.71   \n",
       "998     5395.64            6672.20         2453.49        14521.33   \n",
       "999     5628.18            5509.14         2475.29        13612.61   \n",
       "\n",
       "     Total Compensation  \n",
       "0              44633.40  \n",
       "1              59810.28  \n",
       "2              45185.39  \n",
       "3              58868.68  \n",
       "4              41831.03  \n",
       "..                  ...  \n",
       "995            52887.19  \n",
       "996            48822.59  \n",
       "997            44709.71  \n",
       "998            44890.53  \n",
       "999            44485.82  \n",
       "\n",
       "[1000 rows x 23 columns]"
      ]
     },
     "execution_count": 30,
     "metadata": {},
     "output_type": "execute_result"
    }
   ],
   "source": [
    "salarys.head(1000)\n"
   ]
  },
  {
   "cell_type": "code",
   "execution_count": null,
   "id": "4fc40f6d",
   "metadata": {},
   "outputs": [],
   "source": []
  }
 ],
 "metadata": {
  "kernelspec": {
   "display_name": "Python 3 (ipykernel)",
   "language": "python",
   "name": "python3"
  },
  "language_info": {
   "codemirror_mode": {
    "name": "ipython",
    "version": 3
   },
   "file_extension": ".py",
   "mimetype": "text/x-python",
   "name": "python",
   "nbconvert_exporter": "python",
   "pygments_lexer": "ipython3",
   "version": "3.10.4"
  }
 },
 "nbformat": 4,
 "nbformat_minor": 5
}

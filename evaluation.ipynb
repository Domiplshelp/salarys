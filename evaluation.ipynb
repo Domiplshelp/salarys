{
 "cells": [
  {
   "cell_type": "markdown",
   "id": "d38cd677",
   "metadata": {},
   "source": [
    "# 4.1\n",
    "\n",
    "ich denke das der job am aussagekräftigsten ist daer meistens ein grossen teil des lohns bestimmt danach kommt der department code da das department auch aussagt wie weit oben man ist im ranking danach der organisationcode weil es bestimmt organisationen gibt die mehr zahlen als andere und danach das year da das keinen grossn einfluss darauf hat aber es trotzdem sein kann das in einem jahr eine organisation allesn z.B. polizisten eine gehaltserhöhung gegeben hat.."
   ]
  }
 ],
 "metadata": {
  "kernelspec": {
   "display_name": "Python 3 (ipykernel)",
   "language": "python",
   "name": "python3"
  },
  "language_info": {
   "codemirror_mode": {
    "name": "ipython",
    "version": 3
   },
   "file_extension": ".py",
   "mimetype": "text/x-python",
   "name": "python",
   "nbconvert_exporter": "python",
   "pygments_lexer": "ipython3",
   "version": "3.10.4"
  }
 },
 "nbformat": 4,
 "nbformat_minor": 5
}

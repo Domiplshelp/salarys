{
 "cells": [
  {
   "cell_type": "markdown",
   "id": "96ad27d2",
   "metadata": {},
   "source": [
    "# vorbereitung:"
   ]
  },
  {
   "cell_type": "code",
   "execution_count": 1,
   "id": "6317b3b6",
   "metadata": {},
   "outputs": [],
   "source": [
    "import pandas as pd\n",
    "import os\n",
    "salarys = pd.read_csv(\"Employee_Salary_Compensation.csv\", sep = ';')"
   ]
  },
  {
   "cell_type": "code",
   "execution_count": 2,
   "id": "1c99b991",
   "metadata": {},
   "outputs": [],
   "source": [
    "from sklearn.preprocessing import OrdinalEncoder\n",
    "from sklearn.model_selection import train_test_split\n",
    "from sklearn.preprocessing import StandardScaler\n",
    "from sklearn import preprocessing"
   ]
  },
  {
   "cell_type": "code",
   "execution_count": 3,
   "id": "d5aad122",
   "metadata": {},
   "outputs": [],
   "source": [
    "X = salarys[[\"Year\",\"Organization Group Code\", \"Department Code\", \"Job code\"]]\n",
    "y = salarys[[\"Salaries\"]]"
   ]
  },
  {
   "cell_type": "code",
   "execution_count": 4,
   "id": "71483f45",
   "metadata": {},
   "outputs": [],
   "source": [
    "oe = preprocessing.OrdinalEncoder().fit(X[[\"Department Code\"]])\n",
    "salarys[[\"Department Code\"]] = oe.transform(X[[\"Department Code\"]])"
   ]
  },
  {
   "cell_type": "code",
   "execution_count": 5,
   "id": "1e849e70",
   "metadata": {},
   "outputs": [],
   "source": [
    "oe = preprocessing.OrdinalEncoder().fit(X[[\"Job code\"]])\n",
    "salarys[[\"Job code\"]] = oe.transform(X[[\"Job code\"]])"
   ]
  },
  {
   "cell_type": "code",
   "execution_count": 6,
   "id": "216eca4a",
   "metadata": {},
   "outputs": [],
   "source": [
    "X = salarys[[\"Year\",\"Organization Group Code\", \"Department Code\", \"Job code\"]]\n",
    "y = salarys[[\"Salaries\"]]"
   ]
  },
  {
   "cell_type": "code",
   "execution_count": 7,
   "id": "f5066ff2",
   "metadata": {},
   "outputs": [
    {
     "data": {
      "text/plain": [
       "0"
      ]
     },
     "execution_count": 7,
     "metadata": {},
     "output_type": "execute_result"
    }
   ],
   "source": [
    "from sklearn.impute import SimpleImputer\n",
    "import numpy as np\n",
    "si = SimpleImputer(missing_values=np.nan, strategy='most_frequent')\n",
    "si.fit(X)\n",
    "X_ = si.transform(X)\n",
    "X = pd.DataFrame(X_, columns=X.columns)\n",
    "len(X[X.isna().any(axis=1)])"
   ]
  },
  {
   "cell_type": "code",
   "execution_count": 8,
   "id": "1a6c9080",
   "metadata": {},
   "outputs": [
    {
     "data": {
      "text/html": [
       "<div>\n",
       "<style scoped>\n",
       "    .dataframe tbody tr th:only-of-type {\n",
       "        vertical-align: middle;\n",
       "    }\n",
       "\n",
       "    .dataframe tbody tr th {\n",
       "        vertical-align: top;\n",
       "    }\n",
       "\n",
       "    .dataframe thead th {\n",
       "        text-align: right;\n",
       "    }\n",
       "</style>\n",
       "<table border=\"1\" class=\"dataframe\">\n",
       "  <thead>\n",
       "    <tr style=\"text-align: right;\">\n",
       "      <th></th>\n",
       "      <th>Salaries</th>\n",
       "    </tr>\n",
       "  </thead>\n",
       "  <tbody>\n",
       "    <tr>\n",
       "      <th>0</th>\n",
       "      <td>30000</td>\n",
       "    </tr>\n",
       "    <tr>\n",
       "      <th>1</th>\n",
       "      <td>30000</td>\n",
       "    </tr>\n",
       "    <tr>\n",
       "      <th>2</th>\n",
       "      <td>30001</td>\n",
       "    </tr>\n",
       "    <tr>\n",
       "      <th>3</th>\n",
       "      <td>30001</td>\n",
       "    </tr>\n",
       "    <tr>\n",
       "      <th>4</th>\n",
       "      <td>30003</td>\n",
       "    </tr>\n",
       "    <tr>\n",
       "      <th>...</th>\n",
       "      <td>...</td>\n",
       "    </tr>\n",
       "    <tr>\n",
       "      <th>510232</th>\n",
       "      <td>577632</td>\n",
       "    </tr>\n",
       "    <tr>\n",
       "      <th>510233</th>\n",
       "      <td>584297</td>\n",
       "    </tr>\n",
       "    <tr>\n",
       "      <th>510234</th>\n",
       "      <td>592394</td>\n",
       "    </tr>\n",
       "    <tr>\n",
       "      <th>510235</th>\n",
       "      <td>596615</td>\n",
       "    </tr>\n",
       "    <tr>\n",
       "      <th>510236</th>\n",
       "      <td>651936</td>\n",
       "    </tr>\n",
       "  </tbody>\n",
       "</table>\n",
       "<p>510237 rows × 1 columns</p>\n",
       "</div>"
      ],
      "text/plain": [
       "        Salaries\n",
       "0          30000\n",
       "1          30000\n",
       "2          30001\n",
       "3          30001\n",
       "4          30003\n",
       "...          ...\n",
       "510232    577632\n",
       "510233    584297\n",
       "510234    592394\n",
       "510235    596615\n",
       "510236    651936\n",
       "\n",
       "[510237 rows x 1 columns]"
      ]
     },
     "execution_count": 8,
     "metadata": {},
     "output_type": "execute_result"
    }
   ],
   "source": [
    "salarys[[\"Salaries\"]].astype(int)"
   ]
  },
  {
   "cell_type": "code",
   "execution_count": 9,
   "id": "3550a62c",
   "metadata": {},
   "outputs": [],
   "source": [
    "X_train, X_test, y_train, y_test = train_test_split(X, y, random_state=0)\n",
    "scaler = StandardScaler()\n",
    "scaler = scaler.fit(X_train)\n",
    "X_train = scaler.transform(X_train)\n",
    "X_test = scaler.transform(X_test)"
   ]
  },
  {
   "cell_type": "markdown",
   "id": "6694a3f4",
   "metadata": {},
   "source": [
    "\n",
    "# 3.1\n"
   ]
  },
  {
   "cell_type": "code",
   "execution_count": 10,
   "id": "11456c6f",
   "metadata": {},
   "outputs": [
    {
     "data": {
      "text/plain": [
       "(408189, 102048)"
      ]
     },
     "execution_count": 10,
     "metadata": {},
     "output_type": "execute_result"
    }
   ],
   "source": [
    "from sklearn.model_selection import train_test_split\n",
    "\n",
    "X_train, X_test, y_train, y_test = train_test_split(\n",
    "   X, y, test_size = 0.2, random_state = 42\n",
    ")\n",
    "\n",
    "len(X_train), len(X_test)"
   ]
  },
  {
   "cell_type": "markdown",
   "id": "ad0194a8",
   "metadata": {},
   "source": [
    "# 3.2"
   ]
  },
  {
   "cell_type": "code",
   "execution_count": 11,
   "id": "18f2a38f",
   "metadata": {
    "scrolled": true
   },
   "outputs": [
    {
     "name": "stderr",
     "output_type": "stream",
     "text": [
      "C:\\Users\\untid\\AppData\\Local\\Programs\\Python\\Python310\\lib\\site-packages\\xgboost\\compat.py:36: FutureWarning: pandas.Int64Index is deprecated and will be removed from pandas in a future version. Use pandas.Index with the appropriate dtype instead.\n",
      "  from pandas import MultiIndex, Int64Index\n"
     ]
    },
    {
     "name": "stdout",
     "output_type": "stream",
     "text": [
      "LinearRegression 0.04\n",
      "LGBMRegressor 0.57\n",
      "SGDRegressor -4.084227739852826e+18\n",
      "GradientBoostingRegressor 0.43\n",
      "DecisionTreeRegressor 0.7\n",
      "RandomForestRegressor 0.71\n"
     ]
    }
   ],
   "source": [
    "from sklearn.linear_model import Ridge\n",
    "from sklearn.linear_model import LinearRegression\n",
    "from sklearn.linear_model import LogisticRegression\n",
    "from lightgbm import LGBMRegressor\n",
    "from xgboost.sklearn import XGBRegressor\n",
    "from catboost import CatBoostRegressor\n",
    "from sklearn.linear_model import SGDRegressor\n",
    "from sklearn.linear_model import ElasticNet\n",
    "from sklearn.linear_model import BayesianRidge\n",
    "from sklearn.ensemble import GradientBoostingRegressor\n",
    "from sklearn.svm import SVR\n",
    "from sklearn.tree import DecisionTreeRegressor\n",
    "from sklearn.ensemble import RandomForestRegressor\n",
    "\n",
    "\n",
    "\n",
    "algorithms = {\n",
    "    #\"LinearRegression\" : LinearRegression(),\n",
    "    #\"LGBMRegressor\" : LGBMRegressor(),\n",
    "    #\"SGDRegressor\" : SGDRegressor(max_iter=1000),\n",
    "    #\"GradientBoostingRegressor\" : GradientBoostingRegressor(),\n",
    "    #\"DecisionTreeRegressor\" : DecisionTreeRegressor(max_depth=30),\n",
    "    \"RandomForestRegressor\" : RandomForestRegressor(max_depth=45, random_state=0)\n",
    "}\n",
    "\n",
    "for name, algorithm in algorithms.items():\n",
    "    algorithm.fit(X_train, y_train.values.ravel())\n",
    "    score = algorithm.score(X_test, y_test)\n",
    "    print(name, round(score,2))"
   ]
  },
  {
   "cell_type": "markdown",
   "id": "8a661d15",
   "metadata": {},
   "source": [
    "Ich habe mich für den Random Forest regressor entschieden da er den höchsten score erzielt hat."
   ]
  },
  {
   "cell_type": "markdown",
   "id": "ec96d510",
   "metadata": {},
   "source": [
    "# 3.3"
   ]
  },
  {
   "cell_type": "code",
   "execution_count": 23,
   "id": "f92a1f7d",
   "metadata": {},
   "outputs": [
    {
     "data": {
      "text/plain": [
       "RandomForestRegressor(max_depth=45, random_state=0)"
      ]
     },
     "execution_count": 23,
     "metadata": {},
     "output_type": "execute_result"
    }
   ],
   "source": [
    "import joblib\n",
    "joblib.dump(algorithms[\"RandomForestRegressor\"], 'salaries_random_forest.joblib')\n",
    "best_model = joblib.load('salaries_random_forest.joblib')\n",
    "best_model"
   ]
  },
  {
   "cell_type": "code",
   "execution_count": 24,
   "id": "446a6d58",
   "metadata": {},
   "outputs": [
    {
     "data": {
      "text/html": [
       "<div>\n",
       "<style scoped>\n",
       "    .dataframe tbody tr th:only-of-type {\n",
       "        vertical-align: middle;\n",
       "    }\n",
       "\n",
       "    .dataframe tbody tr th {\n",
       "        vertical-align: top;\n",
       "    }\n",
       "\n",
       "    .dataframe thead th {\n",
       "        text-align: right;\n",
       "    }\n",
       "</style>\n",
       "<table border=\"1\" class=\"dataframe\">\n",
       "  <thead>\n",
       "    <tr style=\"text-align: right;\">\n",
       "      <th></th>\n",
       "      <th>Year</th>\n",
       "      <th>Organization Group Code</th>\n",
       "      <th>Department Code</th>\n",
       "      <th>Job code</th>\n",
       "    </tr>\n",
       "  </thead>\n",
       "  <tbody>\n",
       "    <tr>\n",
       "      <th>0</th>\n",
       "      <td>2020.0</td>\n",
       "      <td>5.0</td>\n",
       "      <td>39.0</td>\n",
       "      <td>663.0</td>\n",
       "    </tr>\n",
       "  </tbody>\n",
       "</table>\n",
       "</div>"
      ],
      "text/plain": [
       "     Year  Organization Group Code  Department Code  Job code\n",
       "0  2020.0                      5.0             39.0     663.0"
      ]
     },
     "execution_count": 24,
     "metadata": {},
     "output_type": "execute_result"
    }
   ],
   "source": [
    "test1 = pd.DataFrame([[2013.0,2.0,41.0,1227.0]], columns=X_train.columns)\n",
    "test1.head()\n",
    "test2 = pd.DataFrame([[2020.0,5.0,39.0,663.0]], columns=X_train.columns)\n",
    "test2.head()"
   ]
  },
  {
   "cell_type": "code",
   "execution_count": 25,
   "id": "b163b74f",
   "metadata": {},
   "outputs": [
    {
     "name": "stdout",
     "output_type": "stream",
     "text": [
      "61520.57254997877\n",
      "35199.43110472036\n"
     ]
    }
   ],
   "source": [
    "predictions = best_model.predict(pd.concat([test1,test2]))\n",
    "for person, prediction in zip([\"test1\",\"test2\"], predictions):\n",
    "    print(prediction)"
   ]
  },
  {
   "cell_type": "code",
   "execution_count": 26,
   "id": "0e0578a8",
   "metadata": {},
   "outputs": [
    {
     "data": {
      "text/html": [
       "<div>\n",
       "<style scoped>\n",
       "    .dataframe tbody tr th:only-of-type {\n",
       "        vertical-align: middle;\n",
       "    }\n",
       "\n",
       "    .dataframe tbody tr th {\n",
       "        vertical-align: top;\n",
       "    }\n",
       "\n",
       "    .dataframe thead th {\n",
       "        text-align: right;\n",
       "    }\n",
       "</style>\n",
       "<table border=\"1\" class=\"dataframe\">\n",
       "  <thead>\n",
       "    <tr style=\"text-align: right;\">\n",
       "      <th></th>\n",
       "      <th>Salaries</th>\n",
       "    </tr>\n",
       "  </thead>\n",
       "  <tbody>\n",
       "    <tr>\n",
       "      <th>0</th>\n",
       "      <td>30000.83</td>\n",
       "    </tr>\n",
       "    <tr>\n",
       "      <th>1</th>\n",
       "      <td>30000.99</td>\n",
       "    </tr>\n",
       "    <tr>\n",
       "      <th>2</th>\n",
       "      <td>30001.03</td>\n",
       "    </tr>\n",
       "    <tr>\n",
       "      <th>3</th>\n",
       "      <td>30001.28</td>\n",
       "    </tr>\n",
       "    <tr>\n",
       "      <th>4</th>\n",
       "      <td>30003.97</td>\n",
       "    </tr>\n",
       "    <tr>\n",
       "      <th>...</th>\n",
       "      <td>...</td>\n",
       "    </tr>\n",
       "    <tr>\n",
       "      <th>995</th>\n",
       "      <td>30367.60</td>\n",
       "    </tr>\n",
       "    <tr>\n",
       "      <th>996</th>\n",
       "      <td>30368.53</td>\n",
       "    </tr>\n",
       "    <tr>\n",
       "      <th>997</th>\n",
       "      <td>30368.63</td>\n",
       "    </tr>\n",
       "    <tr>\n",
       "      <th>998</th>\n",
       "      <td>30369.20</td>\n",
       "    </tr>\n",
       "    <tr>\n",
       "      <th>999</th>\n",
       "      <td>30369.97</td>\n",
       "    </tr>\n",
       "  </tbody>\n",
       "</table>\n",
       "<p>1000 rows × 1 columns</p>\n",
       "</div>"
      ],
      "text/plain": [
       "     Salaries\n",
       "0    30000.83\n",
       "1    30000.99\n",
       "2    30001.03\n",
       "3    30001.28\n",
       "4    30003.97\n",
       "..        ...\n",
       "995  30367.60\n",
       "996  30368.53\n",
       "997  30368.63\n",
       "998  30369.20\n",
       "999  30369.97\n",
       "\n",
       "[1000 rows x 1 columns]"
      ]
     },
     "execution_count": 26,
     "metadata": {},
     "output_type": "execute_result"
    }
   ],
   "source": [
    "X.head(1000)\n",
    "y.head(1000)\n"
   ]
  },
  {
   "cell_type": "markdown",
   "id": "78a003ff",
   "metadata": {},
   "source": [
    "Er ist nicht gerade genau, aber ich glaube nicht, dass das an den Algorithmus liegt, sondern eher an der Datenbank da es sein kann das diese nicht ganz ein Jahr gearbeitet haben und darum das Resultat verzogen wird. ich bin darauf gekommen da das zweite Resultat viel akkurater ist das ist wahrscheinlich darum das der Erste ein falscher wert war und der Zweite ein richtiger."
   ]
  },
  {
   "cell_type": "code",
   "execution_count": null,
   "id": "8be48d48",
   "metadata": {},
   "outputs": [],
   "source": []
  }
 ],
 "metadata": {
  "kernelspec": {
   "display_name": "Python 3 (ipykernel)",
   "language": "python",
   "name": "python3"
  },
  "language_info": {
   "codemirror_mode": {
    "name": "ipython",
    "version": 3
   },
   "file_extension": ".py",
   "mimetype": "text/x-python",
   "name": "python",
   "nbconvert_exporter": "python",
   "pygments_lexer": "ipython3",
   "version": "3.10.4"
  }
 },
 "nbformat": 4,
 "nbformat_minor": 5
}
